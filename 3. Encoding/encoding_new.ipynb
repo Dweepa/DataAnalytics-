{
 "cells": [
  {
   "cell_type": "code",
   "execution_count": 11,
   "metadata": {
    "collapsed": true
   },
   "outputs": [],
   "source": [
    "#importing stuff\n",
    "import numpy as np\n",
    "import pandas as pd\n",
    "from numpy import array\n",
    "from numpy import argmax\n",
    "from collections import Counter"
   ]
  },
  {
   "cell_type": "code",
   "execution_count": 12,
   "metadata": {
    "collapsed": true
   },
   "outputs": [],
   "source": [
    "#dictionary of state codes used for cleaning\n",
    "states = {\n",
    "        'AK': 'Alaska',\n",
    "        'AL': 'Alabama',\n",
    "        'AR': 'Arkansas',\n",
    "        'AS': 'American Samoa',\n",
    "        'AZ': 'Arizona',\n",
    "        'CA': 'California',\n",
    "        'CO': 'Colorado',\n",
    "        'CT': 'Connecticut',\n",
    "        'DC': 'District of Columbia',\n",
    "        'DE': 'Delaware',\n",
    "        'FL': 'Florida',\n",
    "        'GA': 'Georgia',\n",
    "        'GU': 'Guam',\n",
    "        'HI': 'Hawaii',\n",
    "        'IA': 'Iowa',\n",
    "        'ID': 'Idaho',\n",
    "        'IL': 'Illinois',\n",
    "        'IN': 'Indiana',\n",
    "        'KS': 'Kansas',\n",
    "        'KY': 'Kentucky',\n",
    "        'LA': 'Louisiana',\n",
    "        'MA': 'Massachusetts',\n",
    "        'MD': 'Maryland',\n",
    "        'ME': 'Maine',\n",
    "        'MI': 'Michigan',\n",
    "        'MN': 'Minnesota',\n",
    "        'MO': 'Missouri',\n",
    "        'MP': 'Northern Mariana Islands',\n",
    "        'MS': 'Mississippi',\n",
    "        'MT': 'Montana',\n",
    "        'NA': 'National',\n",
    "        'NC': 'North Carolina',\n",
    "        'ND': 'North Dakota',\n",
    "        'NE': 'Nebraska',\n",
    "        'NH': 'New Hampshire',\n",
    "        'NJ': 'New Jersey',\n",
    "        'NM': 'New Mexico',\n",
    "        'NV': 'Nevada',\n",
    "        'NY': 'New York',\n",
    "        'OH': 'Ohio',\n",
    "        'OK': 'Oklahoma',\n",
    "        'OR': 'Oregon',\n",
    "        'PA': 'Pennsylvania',\n",
    "        'PR': 'Puerto Rico',\n",
    "        'RI': 'Rhode Island',\n",
    "        'SC': 'South Carolina',\n",
    "        'SD': 'South Dakota',\n",
    "        'TN': 'Tennessee',\n",
    "        'TX': 'Texas',\n",
    "        'BC': 'British Columbia',\n",
    "        'UT': 'Utah',\n",
    "        'VA': 'Virginia',\n",
    "        'VI': 'Virgin Islands',\n",
    "        'VT': 'Vermont',\n",
    "        'WA': 'Washington',\n",
    "        'WI': 'Wisconsin',\n",
    "        'WV': 'West Virginia',\n",
    "        'WY': 'Wyoming',\n",
    "        'MH': 'Marshal Islands'\n",
    "}"
   ]
  },
  {
   "cell_type": "code",
   "execution_count": 13,
   "metadata": {
    "collapsed": true
   },
   "outputs": [],
   "source": [
    "#numeric encoder\n",
    "def nothotter(x):\n",
    "    d = {}\n",
    "    n = len(x)\n",
    "    for a in range(0, n):\n",
    "        d[x[a]] = a\n",
    "    return d"
   ]
  },
  {
   "cell_type": "code",
   "execution_count": 14,
   "metadata": {
    "collapsed": true
   },
   "outputs": [],
   "source": [
    "#one hot encoding\n",
    "def onehotter(df,pre):\n",
    "    df= pd.get_dummies(df,prefix=pre)\n",
    "    return d"
   ]
  },
  {
   "cell_type": "code",
   "execution_count": 15,
   "metadata": {
    "collapsed": true
   },
   "outputs": [],
   "source": [
    "import operator\n",
    "def topper(data, col):\n",
    "    if(col == 'country_of_citizenship'):\n",
    "        u = 13\n",
    "    elif(col == 'employer_decl_info_title'):\n",
    "        u = 23\n",
    "    x = data.loc[data['case_status'] == 1]\n",
    "    d = Counter(x[col])\n",
    "    sorted_x = sorted(d.items(), key=operator.itemgetter(1))\n",
    "    sorted_x.reverse()\n",
    "    top = sorted_x[:u]\n",
    "    l = []\n",
    "    for x in top:\n",
    "        l.append(x[0])\n",
    "    data.loc[~data[col].isin(l),col] = 'Others'\n",
    "    return data"
   ]
  },
  {
   "cell_type": "code",
   "execution_count": 16,
   "metadata": {
    "collapsed": true
   },
   "outputs": [],
   "source": [
    "def encoder(df):\n",
    "    oh = ['country_of_citizenship', 'employer_decl_info_title', 'employer_state', 'foreign_worker_info_education']\n",
    "    nh = ['employer_city', 'foreign_worker_info_inst', 'foreign_worker_info_major', 'pw_soc_title']\n",
    "    no = [\n",
    " 'agent_firm_name',\n",
    " 'case_status',\n",
    " 'class_of_admission',\n",
    " 'employer_name',\n",
    " 'employer_num_employees',\n",
    " 'pw_level_9089',\n",
    " 'wage_offer_from_9089']\n",
    "    \n",
    "    #certified/denied\n",
    "    df.loc[df['case_status'] == 'Certified', 'case_status'] = 1\n",
    "    df.loc[df['case_status'] == 'Denied' ,'case_status'] = 0\n",
    "    \n",
    "    #take top 10 countries and decl title and make everything others\n",
    "    df = topper(df, 'country_of_citizenship')\n",
    "    df = topper(df, 'employer_decl_info_title')\n",
    "    \n",
    "    #taking subset for hotting\n",
    "    df_hot=pd.DataFrame()\n",
    "    for x in oh:\n",
    "        df_hot[x]=df[x]\n",
    "        \n",
    "    #hotting\n",
    "    df_hot = pd.get_dummies(df_hot,prefix=oh)\n",
    "    \n",
    "    #taking subset for not hotting\n",
    "    df_not=pd.DataFrame()\n",
    "    for x in nh:\n",
    "        df_not[x]=df[x]\n",
    "    \n",
    "    #notting\n",
    "    for x in nh:\n",
    "        d = nothotter(df_not[x].unique())\n",
    "        df_not[x] = df_not[x].apply(lambda x: d[x])\n",
    "    \n",
    "    \n",
    "    #Unioning:\n",
    "    dx = pd.DataFrame()\n",
    "    for x in df_hot.columns:\n",
    "        dx[x] = df_hot[x]\n",
    "    for x in nh:\n",
    "        dx[x] = df_not[x]\n",
    "    for x in no:\n",
    "        dx[x] = df[x]\n",
    "    return dx"
   ]
  },
  {
   "cell_type": "code",
   "execution_count": 17,
   "metadata": {
    "collapsed": true,
    "scrolled": false
   },
   "outputs": [],
   "source": [
    "data = pd.read_csv('../Dataset/dweepafinal.csv')\n",
    "def statemaker(x):\n",
    "    try:\n",
    "        y = len(x)\n",
    "    except:\n",
    "        y = -1\n",
    "    if(y<3 and y!=-1):\n",
    "        return states[x].lower()\n",
    "    elif y>2:\n",
    "        return x.lower()\n",
    "    return x\n",
    "data['employer_state'] = data['employer_state'].apply(statemaker)\n",
    "data.drop(['foreign_worker_info_state'],axis=1,inplace=True)\n",
    "data.drop(['Unnamed: 0'], axis = 1, inplace = True)\n",
    "new_encoder = encoder(data)"
   ]
  },
  {
   "cell_type": "code",
   "execution_count": 18,
   "metadata": {
    "collapsed": true
   },
   "outputs": [],
   "source": [
    "agents  = new_encoder['employer_name'].unique()\n",
    "agents_success = {}\n",
    "\n",
    "for a in agents:\n",
    "    try:\n",
    "        x = Counter(new_encoder['employer_name']==a)\n",
    "        y = Counter(new_encoder[new_encoder['employer_name']==a]['case_status']==1)\n",
    "        try:\n",
    "            c = y[True]\n",
    "        except:\n",
    "            c = 0\n",
    "        agents_success[a] = c/x[True]\n",
    "        if x[True]<10:\n",
    "            agents_success[a] = 0.5\n",
    "    except:\n",
    "        continue\n",
    "\n",
    "def get_success(x):\n",
    "    try:\n",
    "        y = agents_success[x]\n",
    "    except:\n",
    "        y = 0\n",
    "    return y\n",
    "\n",
    "new_encoder['employer_success'] = new_encoder['employer_name'].apply(get_success)\n",
    "\n",
    "\n",
    "agents  = new_encoder['agent_firm_name'].unique()\n",
    "agents_success = {}\n",
    "\n",
    "for a in agents:\n",
    "    try:\n",
    "        x = Counter(new_encoder['agent_firm_name']==a)\n",
    "        y = Counter(new_encoder[new_encoder['agent_firm_name']==a]['case_status']==1)\n",
    "        try:\n",
    "            c = y[True]\n",
    "        except:\n",
    "            c = 0\n",
    "        agents_success[a] = c/x[True]\n",
    "        if x[True]<10:\n",
    "            agents_success[a] = 0.5\n",
    "    except:\n",
    "        continue\n",
    "        \n",
    "new_encoder['agent_success'] = new_encoder['agent_firm_name'].apply(get_success)\n",
    "\n",
    "\n",
    "new_encoder.drop(['employer_name', 'agent_firm_name'], axis = 1, inplace = True)"
   ]
  },
  {
   "cell_type": "code",
   "execution_count": 19,
   "metadata": {},
   "outputs": [
    {
     "ename": "AttributeError",
     "evalue": "'DataFrame' object has no attribute 'to_cv'",
     "output_type": "error",
     "traceback": [
      "\u001b[0;31m------------------------------------------------------------------\u001b[0m",
      "\u001b[0;31mAttributeError\u001b[0m                   Traceback (most recent call last)",
      "\u001b[0;32m<ipython-input-19-0d8d6a7b6173>\u001b[0m in \u001b[0;36m<module>\u001b[0;34m()\u001b[0m\n\u001b[0;32m----> 1\u001b[0;31m \u001b[0mnew_encoder\u001b[0m\u001b[0;34m.\u001b[0m\u001b[0mto_cv\u001b[0m\u001b[0;34m(\u001b[0m\u001b[0;34m\"../Dataset/encoded.csv\"\u001b[0m\u001b[0;34m)\u001b[0m\u001b[0;34m\u001b[0m\u001b[0m\n\u001b[0m",
      "\u001b[0;32m/Users/dweepa/anaconda/lib/python3.6/site-packages/pandas/core/generic.py\u001b[0m in \u001b[0;36m__getattr__\u001b[0;34m(self, name)\u001b[0m\n\u001b[1;32m   2968\u001b[0m             \u001b[0;32mif\u001b[0m \u001b[0mname\u001b[0m \u001b[0;32min\u001b[0m \u001b[0mself\u001b[0m\u001b[0;34m.\u001b[0m\u001b[0m_info_axis\u001b[0m\u001b[0;34m:\u001b[0m\u001b[0;34m\u001b[0m\u001b[0m\n\u001b[1;32m   2969\u001b[0m                 \u001b[0;32mreturn\u001b[0m \u001b[0mself\u001b[0m\u001b[0;34m[\u001b[0m\u001b[0mname\u001b[0m\u001b[0;34m]\u001b[0m\u001b[0;34m\u001b[0m\u001b[0m\n\u001b[0;32m-> 2970\u001b[0;31m             \u001b[0;32mreturn\u001b[0m \u001b[0mobject\u001b[0m\u001b[0;34m.\u001b[0m\u001b[0m__getattribute__\u001b[0m\u001b[0;34m(\u001b[0m\u001b[0mself\u001b[0m\u001b[0;34m,\u001b[0m \u001b[0mname\u001b[0m\u001b[0;34m)\u001b[0m\u001b[0;34m\u001b[0m\u001b[0m\n\u001b[0m\u001b[1;32m   2971\u001b[0m \u001b[0;34m\u001b[0m\u001b[0m\n\u001b[1;32m   2972\u001b[0m     \u001b[0;32mdef\u001b[0m \u001b[0m__setattr__\u001b[0m\u001b[0;34m(\u001b[0m\u001b[0mself\u001b[0m\u001b[0;34m,\u001b[0m \u001b[0mname\u001b[0m\u001b[0;34m,\u001b[0m \u001b[0mvalue\u001b[0m\u001b[0;34m)\u001b[0m\u001b[0;34m:\u001b[0m\u001b[0;34m\u001b[0m\u001b[0m\n",
      "\u001b[0;31mAttributeError\u001b[0m: 'DataFrame' object has no attribute 'to_cv'"
     ]
    }
   ],
   "source": [
    "new_encoder.to_csv(\"../Dataset/encoded.csv\")"
   ]
  },
  {
   "cell_type": "code",
   "execution_count": null,
   "metadata": {
    "collapsed": true
   },
   "outputs": [],
   "source": []
  }
 ],
 "metadata": {
  "kernelspec": {
   "display_name": "Python 3",
   "language": "python",
   "name": "python3"
  },
  "language_info": {
   "codemirror_mode": {
    "name": "ipython",
    "version": 3
   },
   "file_extension": ".py",
   "mimetype": "text/x-python",
   "name": "python",
   "nbconvert_exporter": "python",
   "pygments_lexer": "ipython3",
   "version": "3.6.1"
  }
 },
 "nbformat": 4,
 "nbformat_minor": 2
}
