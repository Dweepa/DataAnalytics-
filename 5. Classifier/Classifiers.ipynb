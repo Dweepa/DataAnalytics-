{
 "cells": [
  {
   "cell_type": "code",
   "execution_count": 1,
   "metadata": {},
   "outputs": [
    {
     "name": "stderr",
     "output_type": "stream",
     "text": [
      "/Users/dweepa/anaconda/lib/python3.6/site-packages/h5py/__init__.py:34: FutureWarning: Conversion of the second argument of issubdtype from `float` to `np.floating` is deprecated. In future, it will be treated as `np.float64 == np.dtype(float).type`.\n",
      "  from ._conv import register_converters as _register_converters\n",
      "Using TensorFlow backend.\n"
     ]
    }
   ],
   "source": [
    "from mpl_toolkits.mplot3d import Axes3D\n",
    "from sklearn.preprocessing import StandardScaler\n",
    "import matplotlib.pyplot as plt \n",
    "import numpy as np\n",
    "import os\n",
    "import pandas as pd \n",
    "\n",
    "from sklearn.model_selection import train_test_split\n",
    "from keras.models import Sequential\n",
    "from keras.layers import Dense,Dropout\n",
    "from keras.wrappers.scikit_learn import KerasClassifier\n",
    "from keras.utils import np_utils\n",
    "\n",
    "from sklearn.model_selection import cross_val_score\n",
    "from sklearn.model_selection import KFold\n",
    "from sklearn.preprocessing import LabelEncoder\n",
    "from sklearn.pipeline import Pipeline\n",
    "import matplotlib.pyplot as plt\n",
    "from sklearn import model_selection\n",
    "from sklearn.linear_model import LogisticRegression\n",
    "from sklearn.tree import DecisionTreeClassifier\n",
    "from sklearn.neighbors import KNeighborsClassifier\n",
    "from sklearn.discriminant_analysis import LinearDiscriminantAnalysis\n",
    "from sklearn.naive_bayes import GaussianNB\n",
    "from sklearn.svm import SVC\n",
    "from sklearn.metrics import accuracy_score\n",
    "from sklearn.metrics import confusion_matrix"
   ]
  },
  {
   "cell_type": "code",
   "execution_count": 2,
   "metadata": {},
   "outputs": [
    {
     "data": {
      "text/html": [
       "<div>\n",
       "<style>\n",
       "    .dataframe thead tr:only-child th {\n",
       "        text-align: right;\n",
       "    }\n",
       "\n",
       "    .dataframe thead th {\n",
       "        text-align: left;\n",
       "    }\n",
       "\n",
       "    .dataframe tbody tr th {\n",
       "        vertical-align: top;\n",
       "    }\n",
       "</style>\n",
       "<table border=\"1\" class=\"dataframe\">\n",
       "  <thead>\n",
       "    <tr style=\"text-align: right;\">\n",
       "      <th></th>\n",
       "      <th>0</th>\n",
       "      <th>1</th>\n",
       "      <th>2</th>\n",
       "      <th>3</th>\n",
       "      <th>4</th>\n",
       "      <th>5</th>\n",
       "      <th>6</th>\n",
       "      <th>7</th>\n",
       "      <th>8</th>\n",
       "      <th>9</th>\n",
       "      <th>...</th>\n",
       "      <th>32</th>\n",
       "      <th>33</th>\n",
       "      <th>34</th>\n",
       "      <th>35</th>\n",
       "      <th>36</th>\n",
       "      <th>37</th>\n",
       "      <th>38</th>\n",
       "      <th>39</th>\n",
       "      <th>case_status</th>\n",
       "      <th>class_of_admission</th>\n",
       "    </tr>\n",
       "  </thead>\n",
       "  <tbody>\n",
       "    <tr>\n",
       "      <th>0</th>\n",
       "      <td>1.718837</td>\n",
       "      <td>-1.564101</td>\n",
       "      <td>-0.624270</td>\n",
       "      <td>0.367709</td>\n",
       "      <td>0.787634</td>\n",
       "      <td>0.745779</td>\n",
       "      <td>-0.765707</td>\n",
       "      <td>-1.596453</td>\n",
       "      <td>-1.157607</td>\n",
       "      <td>0.113230</td>\n",
       "      <td>...</td>\n",
       "      <td>-0.922478</td>\n",
       "      <td>0.366428</td>\n",
       "      <td>4.181433</td>\n",
       "      <td>0.626535</td>\n",
       "      <td>-2.943687</td>\n",
       "      <td>0.965737</td>\n",
       "      <td>0.967921</td>\n",
       "      <td>-0.684650</td>\n",
       "      <td>1</td>\n",
       "      <td>0</td>\n",
       "    </tr>\n",
       "    <tr>\n",
       "      <th>1</th>\n",
       "      <td>-3.220177</td>\n",
       "      <td>-2.130617</td>\n",
       "      <td>0.059023</td>\n",
       "      <td>1.123626</td>\n",
       "      <td>-1.581496</td>\n",
       "      <td>-0.053500</td>\n",
       "      <td>-0.764700</td>\n",
       "      <td>0.048586</td>\n",
       "      <td>0.543452</td>\n",
       "      <td>0.215647</td>\n",
       "      <td>...</td>\n",
       "      <td>-0.082052</td>\n",
       "      <td>0.325926</td>\n",
       "      <td>0.313514</td>\n",
       "      <td>-0.302003</td>\n",
       "      <td>0.611517</td>\n",
       "      <td>-0.233497</td>\n",
       "      <td>-0.741353</td>\n",
       "      <td>0.197093</td>\n",
       "      <td>0</td>\n",
       "      <td>0</td>\n",
       "    </tr>\n",
       "    <tr>\n",
       "      <th>2</th>\n",
       "      <td>-0.683024</td>\n",
       "      <td>-2.358398</td>\n",
       "      <td>-0.380102</td>\n",
       "      <td>0.324592</td>\n",
       "      <td>1.533251</td>\n",
       "      <td>1.329765</td>\n",
       "      <td>-0.661416</td>\n",
       "      <td>0.501212</td>\n",
       "      <td>-0.193716</td>\n",
       "      <td>2.081190</td>\n",
       "      <td>...</td>\n",
       "      <td>-0.344387</td>\n",
       "      <td>0.231931</td>\n",
       "      <td>-0.131912</td>\n",
       "      <td>0.825182</td>\n",
       "      <td>-0.686843</td>\n",
       "      <td>-0.775654</td>\n",
       "      <td>0.987073</td>\n",
       "      <td>0.298712</td>\n",
       "      <td>1</td>\n",
       "      <td>0</td>\n",
       "    </tr>\n",
       "    <tr>\n",
       "      <th>3</th>\n",
       "      <td>-0.892537</td>\n",
       "      <td>-1.527530</td>\n",
       "      <td>1.762655</td>\n",
       "      <td>-2.958144</td>\n",
       "      <td>2.314363</td>\n",
       "      <td>1.380884</td>\n",
       "      <td>0.675292</td>\n",
       "      <td>-1.719787</td>\n",
       "      <td>1.551155</td>\n",
       "      <td>-1.631679</td>\n",
       "      <td>...</td>\n",
       "      <td>-1.154058</td>\n",
       "      <td>-1.841991</td>\n",
       "      <td>0.730057</td>\n",
       "      <td>-2.563708</td>\n",
       "      <td>-0.313658</td>\n",
       "      <td>-0.725614</td>\n",
       "      <td>-3.706364</td>\n",
       "      <td>-0.036169</td>\n",
       "      <td>1</td>\n",
       "      <td>0</td>\n",
       "    </tr>\n",
       "    <tr>\n",
       "      <th>4</th>\n",
       "      <td>1.378325</td>\n",
       "      <td>0.700173</td>\n",
       "      <td>1.513348</td>\n",
       "      <td>0.407777</td>\n",
       "      <td>1.708383</td>\n",
       "      <td>0.722666</td>\n",
       "      <td>-1.202219</td>\n",
       "      <td>1.425830</td>\n",
       "      <td>-0.149194</td>\n",
       "      <td>0.524412</td>\n",
       "      <td>...</td>\n",
       "      <td>0.225081</td>\n",
       "      <td>0.571899</td>\n",
       "      <td>-0.820183</td>\n",
       "      <td>0.676044</td>\n",
       "      <td>-0.288469</td>\n",
       "      <td>-0.799120</td>\n",
       "      <td>0.177217</td>\n",
       "      <td>0.058635</td>\n",
       "      <td>1</td>\n",
       "      <td>0</td>\n",
       "    </tr>\n",
       "  </tbody>\n",
       "</table>\n",
       "<p>5 rows × 42 columns</p>\n",
       "</div>"
      ],
      "text/plain": [
       "          0         1         2         3         4         5         6  \\\n",
       "0  1.718837 -1.564101 -0.624270  0.367709  0.787634  0.745779 -0.765707   \n",
       "1 -3.220177 -2.130617  0.059023  1.123626 -1.581496 -0.053500 -0.764700   \n",
       "2 -0.683024 -2.358398 -0.380102  0.324592  1.533251  1.329765 -0.661416   \n",
       "3 -0.892537 -1.527530  1.762655 -2.958144  2.314363  1.380884  0.675292   \n",
       "4  1.378325  0.700173  1.513348  0.407777  1.708383  0.722666 -1.202219   \n",
       "\n",
       "          7         8         9         ...                32        33  \\\n",
       "0 -1.596453 -1.157607  0.113230         ...         -0.922478  0.366428   \n",
       "1  0.048586  0.543452  0.215647         ...         -0.082052  0.325926   \n",
       "2  0.501212 -0.193716  2.081190         ...         -0.344387  0.231931   \n",
       "3 -1.719787  1.551155 -1.631679         ...         -1.154058 -1.841991   \n",
       "4  1.425830 -0.149194  0.524412         ...          0.225081  0.571899   \n",
       "\n",
       "         34        35        36        37        38        39  case_status  \\\n",
       "0  4.181433  0.626535 -2.943687  0.965737  0.967921 -0.684650            1   \n",
       "1  0.313514 -0.302003  0.611517 -0.233497 -0.741353  0.197093            0   \n",
       "2 -0.131912  0.825182 -0.686843 -0.775654  0.987073  0.298712            1   \n",
       "3  0.730057 -2.563708 -0.313658 -0.725614 -3.706364 -0.036169            1   \n",
       "4 -0.820183  0.676044 -0.288469 -0.799120  0.177217  0.058635            1   \n",
       "\n",
       "   class_of_admission  \n",
       "0                   0  \n",
       "1                   0  \n",
       "2                   0  \n",
       "3                   0  \n",
       "4                   0  \n",
       "\n",
       "[5 rows x 42 columns]"
      ]
     },
     "execution_count": 2,
     "metadata": {},
     "output_type": "execute_result"
    }
   ],
   "source": [
    "data = pd.read_csv(\"../Dataset/afterPCA.csv\",low_memory=False)\n",
    "data.drop(['Unnamed: 0'],axis=1, inplace=True)\n",
    "data.head()"
   ]
  },
  {
   "cell_type": "markdown",
   "metadata": {},
   "source": [
    "### Making one hot encoding into a proper list format and checking if classifiers can take it\n",
    "#### (Did not work)"
   ]
  },
  {
   "cell_type": "markdown",
   "metadata": {},
   "source": [
    "\n",
    "### def makelist(d):\n",
    "\n",
    "    print(len(d))\n",
    "    for i in range(len(d)):\n",
    "        a= d[i]\n",
    "        a=a[1:len(a)-1]\n",
    "        a=a.split(', ')\n",
    "        a=[int(float(i)) for i in a]\n",
    "        d[i]=a\n",
    "        \n",
    "## def makelist1(a):\n",
    "\n",
    "        #print(type(a))\n",
    "        a=a[1:len(a)-1]\n",
    "        a=a.split(', ')\n",
    "        l=[int(float(i)) for i in a]\n",
    "        #print(type(l))\n",
    "        return l"
   ]
  },
  {
   "cell_type": "raw",
   "metadata": {},
   "source": [
    "# col =['country_of_citizenship','employer_decl_info_title','employer_state','foreign_worker_info_education','foreign_worker_info_education','pw_level_9089']\n",
    "\n",
    "for i in col:\n",
    "    data[i]=data[i].apply(makelist1)"
   ]
  },
  {
   "cell_type": "markdown",
   "metadata": {},
   "source": [
    "## Splitting into testing and training"
   ]
  },
  {
   "cell_type": "code",
   "execution_count": 3,
   "metadata": {},
   "outputs": [],
   "source": [
    "y=data['case_status']\n",
    "data1=data.drop(['case_status',],axis=1)\n",
    "X=data1\n",
    "X_train1, X_test1, y_train1, y_test1 = train_test_split(X, y, test_size=0.2)"
   ]
  },
  {
   "cell_type": "code",
   "execution_count": 4,
   "metadata": {},
   "outputs": [
    {
     "data": {
      "text/plain": [
       "116647"
      ]
     },
     "execution_count": 4,
     "metadata": {},
     "output_type": "execute_result"
    }
   ],
   "source": [
    "a = [i for i in y_train1 if i==0]\n",
    "len(a)\n",
    "len(y_train1)-len(a)"
   ]
  },
  {
   "cell_type": "markdown",
   "metadata": {},
   "source": [
    "## Neural Networks"
   ]
  },
  {
   "cell_type": "code",
   "execution_count": 5,
   "metadata": {},
   "outputs": [
    {
     "data": {
      "text/plain": [
       "<keras.callbacks.History at 0x10d601be0>"
      ]
     },
     "execution_count": 5,
     "metadata": {},
     "output_type": "execute_result"
    }
   ],
   "source": [
    "classifier = Sequential()\n",
    "classifier.add(Dense(activation=\"relu\", input_dim=X_train1.shape[1], units=6, kernel_initializer=\"uniform\"))\n",
    "classifier.add(Dense(activation=\"relu\", units=10, kernel_initializer=\"uniform\"))\n",
    "classifier.add(Dense(activation=\"relu\", units=10, kernel_initializer=\"uniform\"))\n",
    "classifier.add(Dense(activation=\"relu\", units=10, kernel_initializer=\"uniform\"))\n",
    "classifier.add(Dropout(0.5))\n",
    "classifier.add(Dense(activation=\"relu\", units=1, kernel_initializer=\"uniform\"))\n",
    "classifier.compile(optimizer = 'adam', loss = 'binary_crossentropy', metrics = ['accuracy'])\n",
    "classifier.fit(X_train1, y_train1, batch_size = 100, epochs = 30,verbose=0)"
   ]
  },
  {
   "cell_type": "code",
   "execution_count": 6,
   "metadata": {},
   "outputs": [
    {
     "name": "stdout",
     "output_type": "stream",
     "text": [
      "30155/30155 [==============================] - 1s 20us/step\n",
      "[0.31022538434725816, 0.671629912118733]\n"
     ]
    }
   ],
   "source": [
    "score= classifier.evaluate(X_test1,y_test1)\n",
    "print(score)"
   ]
  },
  {
   "cell_type": "code",
   "execution_count": 7,
   "metadata": {},
   "outputs": [
    {
     "name": "stdout",
     "output_type": "stream",
     "text": [
      "Neural Network: 0.6716299121207097\n"
     ]
    }
   ],
   "source": [
    "y_pred=classifier.predict(X_test1)\n",
    "print(\"Neural Network:\",accuracy_score(y_pred.round(),y_test1))"
   ]
  },
  {
   "cell_type": "markdown",
   "metadata": {},
   "source": [
    "### predict everything as 1"
   ]
  },
  {
   "cell_type": "code",
   "execution_count": 8,
   "metadata": {},
   "outputs": [
    {
     "data": {
      "text/plain": [
       "0"
      ]
     },
     "execution_count": 8,
     "metadata": {},
     "output_type": "execute_result"
    }
   ],
   "source": [
    "l=len([i for i in y_pred.round() if i==0])\n",
    "l"
   ]
  },
  {
   "cell_type": "markdown",
   "metadata": {},
   "source": [
    "## Other Models"
   ]
  },
  {
   "cell_type": "code",
   "execution_count": 9,
   "metadata": {
    "collapsed": true
   },
   "outputs": [],
   "source": [
    "seed = 7\n",
    "# prepare models\n",
    "models = []\n",
    "models.append(('Logistic Regression', LogisticRegression()))\n",
    "models.append(('Linear Discriminant Analysis', LinearDiscriminantAnalysis()))\n",
    "models.append(('K Nearest Neighbours', KNeighborsClassifier()))\n",
    "models.append(('Decision Trees', DecisionTreeClassifier()))\n",
    "models.append(('Naive Bayes', GaussianNB()))\n",
    "#models.append(('Support Vector Machine', SVC()))\n",
    "# evaluate each model in turn\n",
    "results = []\n",
    "names = []\n",
    "scoring = 'accuracy'"
   ]
  },
  {
   "cell_type": "code",
   "execution_count": 10,
   "metadata": {},
   "outputs": [
    {
     "name": "stdout",
     "output_type": "stream",
     "text": [
      "['Logistic Regression', 0.9651135798375062, 2]\n",
      "['Linear Discriminant Analysis', 0.9637539379870668, 121]\n",
      "['K Nearest Neighbours', 0.966174763720776, 202]\n",
      "['Decision Trees', 0.9416680484165146, 1145]\n",
      "['Naive Bayes', 0.40620129331785776, 18502]\n"
     ]
    }
   ],
   "source": [
    "modellist=[['Model','Accuracy','#DeniedPredictions']]\n",
    "for name, model in models:\n",
    "    try:\n",
    "        model.fit(X_train1,y_train1)\n",
    "        y_test1.values.reshape(-1,1)\n",
    "        y_pred = model.predict(X_test1)\n",
    "        #print(y_pred)\n",
    "        l=(len([i for i in y_pred.round() if i==0]))\n",
    "        cv_results = model.score(X_test1,y_test1)\n",
    "        results.append(cv_results)\n",
    "        names.append(name)\n",
    "        msg = [name, cv_results,l]\n",
    "        modellist.append(msg)\n",
    "        print(msg)\n",
    "    except:\n",
    "        print(name)\n"
   ]
  },
  {
   "cell_type": "code",
   "execution_count": 11,
   "metadata": {},
   "outputs": [
    {
     "ename": "IndentationError",
     "evalue": "unexpected indent (<ipython-input-11-6abdc73eeaa0>, line 2)",
     "output_type": "error",
     "traceback": [
      "\u001b[0;36m  File \u001b[0;32m\"<ipython-input-11-6abdc73eeaa0>\"\u001b[0;36m, line \u001b[0;32m2\u001b[0m\n\u001b[0;31m    f = pd.DataFrame(modellist)\u001b[0m\n\u001b[0m    ^\u001b[0m\n\u001b[0;31mIndentationError\u001b[0m\u001b[0;31m:\u001b[0m unexpected indent\n"
     ]
    }
   ],
   "source": [
    "modellist.append(['Neural Networks',accuracy_score(y_pred.round(),y_test1),l])\n",
    "                  f = pd.DataFrame(modellist)\n",
    "df"
   ]
  },
  {
   "cell_type": "code",
   "execution_count": null,
   "metadata": {
    "collapsed": true
   },
   "outputs": [],
   "source": []
  }
 ],
 "metadata": {
  "kernelspec": {
   "display_name": "Python 3",
   "language": "python",
   "name": "python3"
  },
  "language_info": {
   "codemirror_mode": {
    "name": "ipython",
    "version": 3
   },
   "file_extension": ".py",
   "mimetype": "text/x-python",
   "name": "python",
   "nbconvert_exporter": "python",
   "pygments_lexer": "ipython3",
   "version": "3.6.1"
  }
 },
 "nbformat": 4,
 "nbformat_minor": 2
}
