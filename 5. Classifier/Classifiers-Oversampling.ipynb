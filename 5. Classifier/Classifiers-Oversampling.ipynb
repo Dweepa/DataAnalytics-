{
 "cells": [
  {
   "cell_type": "code",
   "execution_count": 26,
   "metadata": {
    "_uuid": "fd0884518490b00a40f7f1b1dcb503cf7d6cd9b9",
    "collapsed": true
   },
   "outputs": [],
   "source": [
    "import matplotlib.pyplot as plt \n",
    "import numpy as np\n",
    "import os\n",
    "import pandas as pd \n",
    "import matplotlib.pyplot as plt\n",
    "\n",
    "from mlxtend.plotting import plot_confusion_matrix\n",
    "\n",
    "from imblearn.over_sampling import RandomOverSampler\n",
    "from imblearn.over_sampling import SMOTE, ADASYN\n",
    "\n",
    "from collections import Counter\n",
    "\n",
    "from keras.models import Sequential\n",
    "from keras.layers import Dense,Dropout\n",
    "from keras.wrappers.scikit_learn import KerasClassifier\n",
    "from keras.utils import np_utils\n",
    "\n",
    "from sklearn.preprocessing import StandardScaler\n",
    "from sklearn import tree\n",
    "from sklearn.svm import LinearSVC\n",
    "from sklearn.model_selection import cross_val_score\n",
    "from sklearn.model_selection import KFold\n",
    "from sklearn.preprocessing import LabelEncoder\n",
    "from sklearn.pipeline import Pipeline\n",
    "from sklearn.model_selection import train_test_split\n",
    "from sklearn import model_selection\n",
    "from sklearn.linear_model import LogisticRegression\n",
    "from sklearn.tree import DecisionTreeClassifier\n",
    "from sklearn.neighbors import KNeighborsClassifier\n",
    "from sklearn.discriminant_analysis import LinearDiscriminantAnalysis\n",
    "from sklearn.naive_bayes import GaussianNB\n",
    "from sklearn.svm import SVC\n",
    "from sklearn.metrics import accuracy_score\n",
    "from sklearn.metrics import confusion_matrix\n",
    "from sklearn.model_selection import cross_val_score\n",
    "from sklearn import metrics\n",
    "\n",
    "import graphviz"
   ]
  },
  {
   "cell_type": "code",
   "execution_count": 50,
   "metadata": {},
   "outputs": [
    {
     "data": {
      "text/plain": [
       "(150773, 42)"
      ]
     },
     "execution_count": 50,
     "metadata": {},
     "output_type": "execute_result"
    }
   ],
   "source": [
    "data = pd.read_csv(\"../Dataset/afterPCA.csv\",low_memory=False)\n",
    "data.drop(['Unnamed: 0'],axis=1, inplace=True)\n",
    "data.shape"
   ]
  },
  {
   "cell_type": "code",
   "execution_count": 28,
   "metadata": {
    "_uuid": "04287af7e98a42154f62c42effdf3cf168bc3d95"
   },
   "outputs": [
    {
     "data": {
      "text/plain": [
       "Counter({0: 5021, 1: 145752})"
      ]
     },
     "execution_count": 28,
     "metadata": {},
     "output_type": "execute_result"
    }
   ],
   "source": [
    "y=data['case_status']\n",
    "data1=data.drop(['case_status',],axis=1)\n",
    "X=data1\n",
    "Counter(y)"
   ]
  },
  {
   "cell_type": "markdown",
   "metadata": {
    "_uuid": "06465373feff99d52afe756f2a801139dcf4f220"
   },
   "source": [
    "## Splitting into testing and training and oversampling '0's"
   ]
  },
  {
   "cell_type": "code",
   "execution_count": 29,
   "metadata": {
    "_uuid": "6c8878a8d31157f322562c7077162732f76d9564",
    "collapsed": true
   },
   "outputs": [],
   "source": [
    "X_train1, X_test1, y_train1, y_test1 = train_test_split(X,y, test_size=0.2)"
   ]
  },
  {
   "cell_type": "code",
   "execution_count": 30,
   "metadata": {
    "_uuid": "32d79f7415160a77dbc577046f5a41b3eb5c08b9"
   },
   "outputs": [
    {
     "name": "stdout",
     "output_type": "stream",
     "text": [
      "[(0, 116587), (1, 116587)]\n"
     ]
    }
   ],
   "source": [
    "ros = RandomOverSampler(random_state=0)\n",
    "X_resampled, y_resampled = ros.fit_resample(X_train1, y_train1)\n",
    "print(sorted(Counter(y_resampled).items()))"
   ]
  },
  {
   "cell_type": "code",
   "execution_count": 31,
   "metadata": {
    "_uuid": "e59f9f7fd658f1068db46116b2dedad1ea7df6e7",
    "collapsed": true
   },
   "outputs": [],
   "source": [
    "X_train = X_resampled\n",
    "y_train= y_resampled"
   ]
  },
  {
   "cell_type": "code",
   "execution_count": 32,
   "metadata": {
    "_uuid": "2f437b90ca0db0599568a9e2cb61e3419f65fd90"
   },
   "outputs": [
    {
     "name": "stdout",
     "output_type": "stream",
     "text": [
      "Train samples count\n",
      "0 116587\n",
      "1 116587\n",
      "\n",
      "Test samples count\n",
      "0 990\n",
      "1 119628\n"
     ]
    }
   ],
   "source": [
    "print('Train samples count')\n",
    "a = [i for i in y_train if i==0]\n",
    "print('0',len(a))\n",
    "print('1',len(y_train)-len(a))\n",
    "\n",
    "print('\\nTest samples count')\n",
    "a = [i for i in y_test1 if i==0]\n",
    "print('0',len(a))\n",
    "print('1',len(y_train1)-len(a))"
   ]
  },
  {
   "cell_type": "markdown",
   "metadata": {
    "_uuid": "b89f91c3864e67dfd0e328d9b9fce7bbee8b0849"
   },
   "source": [
    "## Neural Networks"
   ]
  },
  {
   "cell_type": "code",
   "execution_count": 33,
   "metadata": {
    "_uuid": "db655f9052cae1e63ca1fc0af1398cda5cd4f5a2"
   },
   "outputs": [
    {
     "name": "stdout",
     "output_type": "stream",
     "text": [
      "Epoch 1/30\n",
      "233174/233174 [==============================] - 5s 21us/step - loss: 0.6047 - acc: 0.6712\n",
      "Epoch 2/30\n",
      "233174/233174 [==============================] - 5s 20us/step - loss: 0.5804 - acc: 0.6976\n",
      "Epoch 3/30\n",
      "233174/233174 [==============================] - 5s 23us/step - loss: 0.5698 - acc: 0.7028\n",
      "Epoch 4/30\n",
      "233174/233174 [==============================] - 5s 20us/step - loss: 0.5651 - acc: 0.7019\n",
      "Epoch 5/30\n",
      "233174/233174 [==============================] - 5s 20us/step - loss: 0.5613 - acc: 0.7026\n",
      "Epoch 6/30\n",
      "233174/233174 [==============================] - 5s 23us/step - loss: 0.5593 - acc: 0.7020\n",
      "Epoch 7/30\n",
      "233174/233174 [==============================] - 5s 22us/step - loss: 0.5569 - acc: 0.7031\n",
      "Epoch 8/30\n",
      "233174/233174 [==============================] - 4s 19us/step - loss: 0.5554 - acc: 0.7033\n",
      "Epoch 9/30\n",
      "233174/233174 [==============================] - 6s 25us/step - loss: 0.5545 - acc: 0.7040\n",
      "Epoch 10/30\n",
      "233174/233174 [==============================] - 5s 21us/step - loss: 0.5545 - acc: 0.7028\n",
      "Epoch 11/30\n",
      "233174/233174 [==============================] - 5s 22us/step - loss: 0.5534 - acc: 0.7021\n",
      "Epoch 12/30\n",
      "233174/233174 [==============================] - 5s 19us/step - loss: 0.5516 - acc: 0.7032\n",
      "Epoch 13/30\n",
      "233174/233174 [==============================] - 6s 26us/step - loss: 0.5515 - acc: 0.7018\n",
      "Epoch 14/30\n",
      "233174/233174 [==============================] - 6s 25us/step - loss: 0.5513 - acc: 0.7024\n",
      "Epoch 15/30\n",
      "233174/233174 [==============================] - 6s 25us/step - loss: 0.5509 - acc: 0.7036\n",
      "Epoch 16/30\n",
      "233174/233174 [==============================] - 6s 25us/step - loss: 0.5495 - acc: 0.7040\n",
      "Epoch 17/30\n",
      "233174/233174 [==============================] - 5s 22us/step - loss: 0.5492 - acc: 0.7035\n",
      "Epoch 18/30\n",
      "233174/233174 [==============================] - 4s 18us/step - loss: 0.5490 - acc: 0.7025\n",
      "Epoch 19/30\n",
      "233174/233174 [==============================] - 5s 20us/step - loss: 0.5479 - acc: 0.7034\n",
      "Epoch 20/30\n",
      "233174/233174 [==============================] - 4s 19us/step - loss: 0.5476 - acc: 0.7032\n",
      "Epoch 21/30\n",
      "233174/233174 [==============================] - 4s 18us/step - loss: 0.5473 - acc: 0.7027\n",
      "Epoch 22/30\n",
      "233174/233174 [==============================] - 4s 18us/step - loss: 0.5472 - acc: 0.7023\n",
      "Epoch 23/30\n",
      "233174/233174 [==============================] - 4s 19us/step - loss: 0.5468 - acc: 0.7022\n",
      "Epoch 24/30\n",
      "233174/233174 [==============================] - 5s 21us/step - loss: 0.5478 - acc: 0.7018\n",
      "Epoch 25/30\n",
      "233174/233174 [==============================] - 4s 19us/step - loss: 0.5458 - acc: 0.7021\n",
      "Epoch 26/30\n",
      "233174/233174 [==============================] - 4s 18us/step - loss: 0.5456 - acc: 0.7021\n",
      "Epoch 27/30\n",
      "233174/233174 [==============================] - 4s 19us/step - loss: 0.5456 - acc: 0.7020\n",
      "Epoch 28/30\n",
      "233174/233174 [==============================] - 5s 20us/step - loss: 0.5466 - acc: 0.7011\n",
      "Epoch 29/30\n",
      "233174/233174 [==============================] - 5s 23us/step - loss: 0.5455 - acc: 0.7019\n",
      "Epoch 30/30\n",
      "233174/233174 [==============================] - 5s 20us/step - loss: 0.5454 - acc: 0.7012\n"
     ]
    },
    {
     "data": {
      "text/plain": [
       "<keras.callbacks.History at 0x1a4840a710>"
      ]
     },
     "execution_count": 33,
     "metadata": {},
     "output_type": "execute_result"
    }
   ],
   "source": [
    "classifier = Sequential()\n",
    "classifier.add(Dense(activation=\"relu\", input_dim=X_train.shape[1], units=6, kernel_initializer=\"uniform\"))\n",
    "classifier.add(Dense(activation=\"relu\", units=10, kernel_initializer=\"uniform\"))\n",
    "classifier.add(Dense(activation=\"relu\", units=10, kernel_initializer=\"uniform\"))\n",
    "classifier.add(Dense(activation=\"relu\", units=10, kernel_initializer=\"uniform\"))\n",
    "classifier.add(Dropout(0.5))\n",
    "classifier.add(Dense(activation=\"sigmoid\", units=1, kernel_initializer=\"uniform\"))\n",
    "classifier.compile(optimizer = 'adam', loss = 'binary_crossentropy', metrics = ['accuracy'])\n",
    "classifier.fit(X_train, y_train, batch_size = 100, epochs = 30,verbose=1)"
   ]
  },
  {
   "cell_type": "code",
   "execution_count": 34,
   "metadata": {
    "_uuid": "78ad45d911cf29f6e1de336d16441e1b7151d821"
   },
   "outputs": [
    {
     "name": "stdout",
     "output_type": "stream",
     "text": [
      "30155/30155 [==============================] - 1s 21us/step\n",
      "[0.5576377825740162, 0.5015751948326584]\n"
     ]
    }
   ],
   "source": [
    "score= classifier.evaluate(X_test1,y_test1)\n",
    "print(score)"
   ]
  },
  {
   "cell_type": "code",
   "execution_count": 35,
   "metadata": {
    "_uuid": "d6e35a5e4a30034ae92d17dc43dbd8cb66c2f21e"
   },
   "outputs": [
    {
     "name": "stdout",
     "output_type": "stream",
     "text": [
      "0.4877078690210869\n"
     ]
    }
   ],
   "source": [
    "y_pred=classifier.predict(X_test1)\n",
    "tn, fp, fn, tp = confusion_matrix(y_test1,y_pred.round()).ravel()\n",
    "print(tp/(tp+ fn))\n",
    "precision = tp/(tp+fp)\n",
    "recall = tp/(tp+fn)\n",
    "fmeasure = 2*((precision*recall)/(precision+recall))\n",
    "acc = (tp+tn)/(tp+tn+fp+fn)\n",
    "rej = tn/(tn+fp)"
   ]
  },
  {
   "cell_type": "code",
   "execution_count": 36,
   "metadata": {},
   "outputs": [
    {
     "data": {
      "image/png": "[encoded data removed]",
      "text/plain": [
       "<matplotlib.figure.Figure at 0x1a39ea1400>"
      ]
     },
     "metadata": {},
     "output_type": "display_data"
    }
   ],
   "source": [
    "binary = confusion_matrix(y_test1,y_pred.round())\n",
    "fig, ax = plot_confusion_matrix(conf_mat=binary)\n",
    "plt.savefig('nn.png')\n",
    "plt.show()"
   ]
  },
  {
   "cell_type": "code",
   "execution_count": 37,
   "metadata": {
    "collapsed": true
   },
   "outputs": [],
   "source": [
    "def plotCurve(y_test1,y_pred,name):   \n",
    "    fpr, tpr, thresholds = metrics.roc_curve(y_test1, y_pred)\n",
    "    roc_auc = metrics.auc(fpr, tpr)\n",
    "    plt.title('Receiver Operating Characteristic')\n",
    "    plt.plot(fpr, tpr, 'b', label = 'AUC = %0.2f' % roc_auc)\n",
    "    plt.legend(loc = 'lower right')\n",
    "    plt.plot([0, 1], [0, 1],'r--')\n",
    "    plt.xlim([0, 1])\n",
    "    plt.ylim([0, 1])\n",
    "    plt.ylabel('True Positive Rate')\n",
    "    plt.xlabel('False Positive Rate')\n",
    "    name = '../Graphs/'+name+'.png'\n",
    "    plt.savefig(name)\n",
    "    plt.show()\n",
    "    return roc_auc"
   ]
  },
  {
   "cell_type": "code",
   "execution_count": 38,
   "metadata": {},
   "outputs": [
    {
     "data": {
      "image/png": "[encoded data removed]",
      "text/plain": [
       "<matplotlib.figure.Figure at 0x1a47b4a2e8>"
      ]
     },
     "metadata": {},
     "output_type": "display_data"
    }
   ],
   "source": [
    "auc = plotCurve(y_test1,y_pred.round(),'nn-aoc')"
   ]
  },
  {
   "cell_type": "code",
   "execution_count": 39,
   "metadata": {},
   "outputs": [
    {
     "data": {
      "text/plain": [
       "[['Neural Networks', 0.99, 0.49, 0.65, 0.5, 0.91, 0.7]]"
      ]
     },
     "execution_count": 39,
     "metadata": {},
     "output_type": "execute_result"
    }
   ],
   "source": [
    "modellist=[]\n",
    "modellist.append(['Neural Networks', round(precision,2), round(recall,2), round(fmeasure,2), round(acc,2),round(rej,2),round(auc,2)])\n",
    "modellist"
   ]
  },
  {
   "cell_type": "markdown",
   "metadata": {
    "_uuid": "c09db76f0bc85aee047deba6a4441d15ddc1414c"
   },
   "source": [
    "### does not predict everything as '1'"
   ]
  },
  {
   "cell_type": "code",
   "execution_count": 40,
   "metadata": {
    "_uuid": "1bd8c702a3fde34b80cbf82a4d51406201801061"
   },
   "outputs": [
    {
     "data": {
      "text/plain": [
       "15842"
      ]
     },
     "execution_count": 40,
     "metadata": {},
     "output_type": "execute_result"
    }
   ],
   "source": [
    "l=len([i for i in y_pred.round() if i==0])\n",
    "l"
   ]
  },
  {
   "cell_type": "markdown",
   "metadata": {
    "_uuid": "01074a6a31c0120b85a8bee01d593ad6a3cded96"
   },
   "source": [
    "## Other Models"
   ]
  },
  {
   "cell_type": "code",
   "execution_count": 41,
   "metadata": {
    "_uuid": "654d313beb2794925db34ebbb83b79201107e45c",
    "collapsed": true
   },
   "outputs": [],
   "source": [
    "seed = 7\n",
    "# prepare models\n",
    "models = []\n",
    "models.append(('Logistic Regression', LogisticRegression()))\n",
    "#models.append(('Linear Discriminant Analysis', LinearDiscriminantAnalysis()))\n",
    "models.append(('K Nearest Neighbours', KNeighborsClassifier()))\n",
    "models.append(('Decision Trees', DecisionTreeClassifier()))\n",
    "models.append(('Naive Bayes', GaussianNB()))\n",
    "#models.append(('Support Vector Machine', SVC()))\n",
    "# evaluate each model in turn\n",
    "results = []\n",
    "names = []\n",
    "scoring = 'accuracy'"
   ]
  },
  {
   "cell_type": "code",
   "execution_count": 42,
   "metadata": {
    "_uuid": "e3eea1eddccde6a3392036ff123f8385e744faf1"
   },
   "outputs": [
    {
     "name": "stderr",
     "output_type": "stream",
     "text": [
      "/Users/dweepa/anaconda/lib/python3.6/site-packages/sklearn/linear_model/logistic.py:432: FutureWarning: Default solver will be changed to 'lbfgs' in 0.22. Specify a solver to silence this warning.\n",
      "  FutureWarning)\n"
     ]
    },
    {
     "name": "stdout",
     "output_type": "stream",
     "text": [
      "608 382 7145 22020\n",
      "[[  608   382]\n",
      " [ 7145 22020]]\n"
     ]
    },
    {
     "data": {
      "image/png": "[encoded data removed]",
      "text/plain": [
       "<matplotlib.figure.Figure at 0x1a35aa15f8>"
      ]
     },
     "metadata": {},
     "output_type": "display_data"
    },
    {
     "data": {
      "image/png": "[encoded data removed]",
      "text/plain": [
       "<matplotlib.figure.Figure at 0x1a39e3f2e8>"
      ]
     },
     "metadata": {},
     "output_type": "display_data"
    },
    {
     "name": "stdout",
     "output_type": "stream",
     "text": [
      "['Logistic Regression', 0.98, 0.76, 0.86, 0.75, 0.61, 0.68]\n",
      "\n",
      "\n",
      "341 649 1961 27204\n",
      "[[  341   649]\n",
      " [ 1961 27204]]\n"
     ]
    },
    {
     "data": {
      "image/png": "[encoded data removed]",
      "text/plain": [
       "<matplotlib.figure.Figure at 0x1a3b4bd198>"
      ]
     },
     "metadata": {},
     "output_type": "display_data"
    },
    {
     "data": {
      "image/png": "[encoded data removed]",
      "text/plain": [
       "<matplotlib.figure.Figure at 0x1a35adc860>"
      ]
     },
     "metadata": {},
     "output_type": "display_data"
    },
    {
     "name": "stdout",
     "output_type": "stream",
     "text": [
      "['K Nearest Neighbours', 0.98, 0.93, 0.95, 0.91, 0.34, 0.64]\n",
      "\n",
      "\n",
      "214 776 779 28386\n",
      "[[  214   776]\n",
      " [  779 28386]]\n"
     ]
    },
    {
     "data": {
      "image/png": "[encoded data removed]",
      "text/plain": [
       "<matplotlib.figure.Figure at 0x1a359f2518>"
      ]
     },
     "metadata": {},
     "output_type": "display_data"
    },
    {
     "data": {
      "image/png": "[encoded data removed]",
      "text/plain": [
       "<matplotlib.figure.Figure at 0x1a39e5cb00>"
      ]
     },
     "metadata": {},
     "output_type": "display_data"
    },
    {
     "name": "stdout",
     "output_type": "stream",
     "text": [
      "['Decision Trees', 0.97, 0.97, 0.97, 0.95, 0.22, 0.59]\n",
      "\n",
      "\n",
      "850 140 22119 7046\n",
      "[[  850   140]\n",
      " [22119  7046]]\n"
     ]
    },
    {
     "data": {
      "image/png": "[encoded data removed]",
      "text/plain": [
       "<matplotlib.figure.Figure at 0x1a32f01d68>"
      ]
     },
     "metadata": {},
     "output_type": "display_data"
    },
    {
     "data": {
      "image/png": "[encoded data removed]",
      "text/plain": [
       "<matplotlib.figure.Figure at 0x1a32f94320>"
      ]
     },
     "metadata": {},
     "output_type": "display_data"
    },
    {
     "name": "stdout",
     "output_type": "stream",
     "text": [
      "['Naive Bayes', 0.98, 0.24, 0.39, 0.26, 0.86, 0.55]\n",
      "\n",
      "\n"
     ]
    }
   ],
   "source": [
    "#from pandas_ml import ConfusionMatrix\n",
    "\n",
    "for name, model in models:\n",
    "    try:\n",
    "        model.fit(X_train,y_train)\n",
    "        y_pred = model.predict(X_test1)\n",
    "       # print(y_pred)\n",
    "        cv_results = round(model.score(X_test1,y_test1),2)\n",
    "        tn, fp, fn, tp = confusion_matrix(y_test1,y_pred.round()).ravel()\n",
    "        print(tn, fp, fn, tp)\n",
    "        precision = round(tp/(tp+fp),2)\n",
    "        recall = round(tp/(tp+fn),2)\n",
    "        fmeasure = round(2*((precision*recall)/(precision+recall)),2)\n",
    "        rej = tn/(tn+fp)\n",
    "        print(confusion_matrix(y_test1,y_pred.round()))\n",
    "        binary = confusion_matrix(y_test1,y_pred.round())\n",
    "        fig, ax = plot_confusion_matrix(conf_mat=binary)\n",
    "        plt.show()\n",
    "        n = '../Graphs/'+name+'.png'\n",
    "        plt.savefig(n)\n",
    "        auc = plotCurve(y_test1,y_pred.round(),name+'-aoc')\n",
    "        msg = [name, precision, recall, fmeasure, cv_results,round(rej,2),round(auc,2)]\n",
    "        modellist.append(msg)\n",
    "        print(msg)\n",
    "        print('\\n')\n",
    "    except:\n",
    "        print(\"Error:\" ,name)\n"
   ]
  },
  {
   "cell_type": "code",
   "execution_count": 43,
   "metadata": {
    "_uuid": "35346a59832cbec29d8f567528c6d661d383f9bc",
    "collapsed": true
   },
   "outputs": [],
   "source": [
    "df = pd.DataFrame(modellist)\n",
    "df.columns=['Model','Precision','Recall','f-measure','Accuracy','Rejection Rate','Auc']"
   ]
  },
  {
   "cell_type": "code",
   "execution_count": 44,
   "metadata": {
    "_uuid": "66f359f24aed2b94b63ee1b595bcbc60e48cec68"
   },
   "outputs": [
    {
     "data": {
      "text/html": [
       "<div>\n",
       "<style>\n",
       "    .dataframe thead tr:only-child th {\n",
       "        text-align: right;\n",
       "    }\n",
       "\n",
       "    .dataframe thead th {\n",
       "        text-align: left;\n",
       "    }\n",
       "\n",
       "    .dataframe tbody tr th {\n",
       "        vertical-align: top;\n",
       "    }\n",
       "</style>\n",
       "<table border=\"1\" class=\"dataframe\">\n",
       "  <thead>\n",
       "    <tr style=\"text-align: right;\">\n",
       "      <th></th>\n",
       "      <th>Model</th>\n",
       "      <th>Precision</th>\n",
       "      <th>Recall</th>\n",
       "      <th>f-measure</th>\n",
       "      <th>Accuracy</th>\n",
       "      <th>Rejection Rate</th>\n",
       "      <th>Auc</th>\n",
       "    </tr>\n",
       "  </thead>\n",
       "  <tbody>\n",
       "    <tr>\n",
       "      <th>0</th>\n",
       "      <td>Neural Networks</td>\n",
       "      <td>0.99</td>\n",
       "      <td>0.49</td>\n",
       "      <td>0.65</td>\n",
       "      <td>0.50</td>\n",
       "      <td>0.91</td>\n",
       "      <td>0.70</td>\n",
       "    </tr>\n",
       "    <tr>\n",
       "      <th>1</th>\n",
       "      <td>Logistic Regression</td>\n",
       "      <td>0.98</td>\n",
       "      <td>0.76</td>\n",
       "      <td>0.86</td>\n",
       "      <td>0.75</td>\n",
       "      <td>0.61</td>\n",
       "      <td>0.68</td>\n",
       "    </tr>\n",
       "    <tr>\n",
       "      <th>2</th>\n",
       "      <td>K Nearest Neighbours</td>\n",
       "      <td>0.98</td>\n",
       "      <td>0.93</td>\n",
       "      <td>0.95</td>\n",
       "      <td>0.91</td>\n",
       "      <td>0.34</td>\n",
       "      <td>0.64</td>\n",
       "    </tr>\n",
       "    <tr>\n",
       "      <th>3</th>\n",
       "      <td>Decision Trees</td>\n",
       "      <td>0.97</td>\n",
       "      <td>0.97</td>\n",
       "      <td>0.97</td>\n",
       "      <td>0.95</td>\n",
       "      <td>0.22</td>\n",
       "      <td>0.59</td>\n",
       "    </tr>\n",
       "    <tr>\n",
       "      <th>4</th>\n",
       "      <td>Naive Bayes</td>\n",
       "      <td>0.98</td>\n",
       "      <td>0.24</td>\n",
       "      <td>0.39</td>\n",
       "      <td>0.26</td>\n",
       "      <td>0.86</td>\n",
       "      <td>0.55</td>\n",
       "    </tr>\n",
       "  </tbody>\n",
       "</table>\n",
       "</div>"
      ],
      "text/plain": [
       "                  Model  Precision  Recall  f-measure  Accuracy  \\\n",
       "0       Neural Networks       0.99    0.49       0.65      0.50   \n",
       "1   Logistic Regression       0.98    0.76       0.86      0.75   \n",
       "2  K Nearest Neighbours       0.98    0.93       0.95      0.91   \n",
       "3        Decision Trees       0.97    0.97       0.97      0.95   \n",
       "4           Naive Bayes       0.98    0.24       0.39      0.26   \n",
       "\n",
       "   Rejection Rate   Auc  \n",
       "0            0.91  0.70  \n",
       "1            0.61  0.68  \n",
       "2            0.34  0.64  \n",
       "3            0.22  0.59  \n",
       "4            0.86  0.55  "
      ]
     },
     "execution_count": 44,
     "metadata": {},
     "output_type": "execute_result"
    }
   ],
   "source": [
    "df"
   ]
  },
  {
   "cell_type": "code",
   "execution_count": 45,
   "metadata": {
    "_uuid": "66f359f24aed2b94b63ee1b595bcbc60e48cec68",
    "collapsed": true
   },
   "outputs": [],
   "source": [
    "df_test = df"
   ]
  },
  {
   "cell_type": "markdown",
   "metadata": {},
   "source": [
    "# Validation Accuracy "
   ]
  },
  {
   "cell_type": "code",
   "execution_count": 46,
   "metadata": {},
   "outputs": [
    {
     "name": "stderr",
     "output_type": "stream",
     "text": [
      "/Users/dweepa/anaconda/lib/python3.6/site-packages/sklearn/linear_model/logistic.py:432: FutureWarning: Default solver will be changed to 'lbfgs' in 0.22. Specify a solver to silence this warning.\n",
      "  FutureWarning)\n",
      "/Users/dweepa/anaconda/lib/python3.6/site-packages/sklearn/linear_model/logistic.py:432: FutureWarning: Default solver will be changed to 'lbfgs' in 0.22. Specify a solver to silence this warning.\n",
      "  FutureWarning)\n",
      "/Users/dweepa/anaconda/lib/python3.6/site-packages/sklearn/linear_model/logistic.py:432: FutureWarning: Default solver will be changed to 'lbfgs' in 0.22. Specify a solver to silence this warning.\n",
      "  FutureWarning)\n",
      "/Users/dweepa/anaconda/lib/python3.6/site-packages/sklearn/linear_model/logistic.py:432: FutureWarning: Default solver will be changed to 'lbfgs' in 0.22. Specify a solver to silence this warning.\n",
      "  FutureWarning)\n",
      "/Users/dweepa/anaconda/lib/python3.6/site-packages/sklearn/linear_model/logistic.py:432: FutureWarning: Default solver will be changed to 'lbfgs' in 0.22. Specify a solver to silence this warning.\n",
      "  FutureWarning)\n"
     ]
    },
    {
     "name": "stdout",
     "output_type": "stream",
     "text": [
      "['Logistic Regression', 0.97, 0.0004840813561637596]\n",
      "['K Nearest Neighbours', 0.95, 0.016459693562429437]\n",
      "['Decision Trees', 0.89, 0.06541789111796126]\n",
      "['Naive Bayes', 0.48, 0.04343031769273104]\n"
     ]
    }
   ],
   "source": [
    "modellist=[]\n",
    "for name, model in models:\n",
    "    try:\n",
    "        scores = cross_val_score(model, X,y, cv=5)\n",
    "        names.append(name)\n",
    "        msg = [name, round(scores.mean(),2),scores.std()]\n",
    "        modellist.append(msg)\n",
    "        print(msg)\n",
    "    except:\n",
    "        print(\"Error: \",name)"
   ]
  },
  {
   "cell_type": "code",
   "execution_count": 47,
   "metadata": {
    "collapsed": true
   },
   "outputs": [],
   "source": [
    "df = pd.DataFrame(modellist)\n",
    "df.columns=['Model','Mean Validation Score','Std Dev of validation score']\n",
    "df_validation = df"
   ]
  },
  {
   "cell_type": "code",
   "execution_count": 48,
   "metadata": {},
   "outputs": [
    {
     "data": {
      "text/html": [
       "<div>\n",
       "<style>\n",
       "    .dataframe thead tr:only-child th {\n",
       "        text-align: right;\n",
       "    }\n",
       "\n",
       "    .dataframe thead th {\n",
       "        text-align: left;\n",
       "    }\n",
       "\n",
       "    .dataframe tbody tr th {\n",
       "        vertical-align: top;\n",
       "    }\n",
       "</style>\n",
       "<table border=\"1\" class=\"dataframe\">\n",
       "  <thead>\n",
       "    <tr style=\"text-align: right;\">\n",
       "      <th></th>\n",
       "      <th>Model</th>\n",
       "      <th>Mean Validation Score</th>\n",
       "      <th>Std Dev of validation score</th>\n",
       "    </tr>\n",
       "  </thead>\n",
       "  <tbody>\n",
       "    <tr>\n",
       "      <th>0</th>\n",
       "      <td>Logistic Regression</td>\n",
       "      <td>0.97</td>\n",
       "      <td>0.000484</td>\n",
       "    </tr>\n",
       "    <tr>\n",
       "      <th>1</th>\n",
       "      <td>K Nearest Neighbours</td>\n",
       "      <td>0.95</td>\n",
       "      <td>0.016460</td>\n",
       "    </tr>\n",
       "    <tr>\n",
       "      <th>2</th>\n",
       "      <td>Decision Trees</td>\n",
       "      <td>0.89</td>\n",
       "      <td>0.065418</td>\n",
       "    </tr>\n",
       "    <tr>\n",
       "      <th>3</th>\n",
       "      <td>Naive Bayes</td>\n",
       "      <td>0.48</td>\n",
       "      <td>0.043430</td>\n",
       "    </tr>\n",
       "  </tbody>\n",
       "</table>\n",
       "</div>"
      ],
      "text/plain": [
       "                  Model  Mean Validation Score  Std Dev of validation score\n",
       "0   Logistic Regression                   0.97                     0.000484\n",
       "1  K Nearest Neighbours                   0.95                     0.016460\n",
       "2        Decision Trees                   0.89                     0.065418\n",
       "3           Naive Bayes                   0.48                     0.043430"
      ]
     },
     "execution_count": 48,
     "metadata": {},
     "output_type": "execute_result"
    }
   ],
   "source": [
    "df_validation"
   ]
  },
  {
   "cell_type": "code",
   "execution_count": 49,
   "metadata": {
    "scrolled": true
   },
   "outputs": [
    {
     "data": {
      "text/html": [
       "<div>\n",
       "<style>\n",
       "    .dataframe thead tr:only-child th {\n",
       "        text-align: right;\n",
       "    }\n",
       "\n",
       "    .dataframe thead th {\n",
       "        text-align: left;\n",
       "    }\n",
       "\n",
       "    .dataframe tbody tr th {\n",
       "        vertical-align: top;\n",
       "    }\n",
       "</style>\n",
       "<table border=\"1\" class=\"dataframe\">\n",
       "  <thead>\n",
       "    <tr style=\"text-align: right;\">\n",
       "      <th></th>\n",
       "      <th>Model</th>\n",
       "      <th>Precision</th>\n",
       "      <th>Recall</th>\n",
       "      <th>f-measure</th>\n",
       "      <th>Accuracy</th>\n",
       "      <th>Rejection Rate</th>\n",
       "      <th>Auc</th>\n",
       "    </tr>\n",
       "  </thead>\n",
       "  <tbody>\n",
       "    <tr>\n",
       "      <th>0</th>\n",
       "      <td>Neural Networks</td>\n",
       "      <td>0.99</td>\n",
       "      <td>0.49</td>\n",
       "      <td>0.65</td>\n",
       "      <td>0.50</td>\n",
       "      <td>0.91</td>\n",
       "      <td>0.70</td>\n",
       "    </tr>\n",
       "    <tr>\n",
       "      <th>1</th>\n",
       "      <td>Logistic Regression</td>\n",
       "      <td>0.98</td>\n",
       "      <td>0.76</td>\n",
       "      <td>0.86</td>\n",
       "      <td>0.75</td>\n",
       "      <td>0.61</td>\n",
       "      <td>0.68</td>\n",
       "    </tr>\n",
       "    <tr>\n",
       "      <th>2</th>\n",
       "      <td>K Nearest Neighbours</td>\n",
       "      <td>0.98</td>\n",
       "      <td>0.93</td>\n",
       "      <td>0.95</td>\n",
       "      <td>0.91</td>\n",
       "      <td>0.34</td>\n",
       "      <td>0.64</td>\n",
       "    </tr>\n",
       "    <tr>\n",
       "      <th>3</th>\n",
       "      <td>Decision Trees</td>\n",
       "      <td>0.97</td>\n",
       "      <td>0.97</td>\n",
       "      <td>0.97</td>\n",
       "      <td>0.95</td>\n",
       "      <td>0.22</td>\n",
       "      <td>0.59</td>\n",
       "    </tr>\n",
       "    <tr>\n",
       "      <th>4</th>\n",
       "      <td>Naive Bayes</td>\n",
       "      <td>0.98</td>\n",
       "      <td>0.24</td>\n",
       "      <td>0.39</td>\n",
       "      <td>0.26</td>\n",
       "      <td>0.86</td>\n",
       "      <td>0.55</td>\n",
       "    </tr>\n",
       "  </tbody>\n",
       "</table>\n",
       "</div>"
      ],
      "text/plain": [
       "                  Model  Precision  Recall  f-measure  Accuracy  \\\n",
       "0       Neural Networks       0.99    0.49       0.65      0.50   \n",
       "1   Logistic Regression       0.98    0.76       0.86      0.75   \n",
       "2  K Nearest Neighbours       0.98    0.93       0.95      0.91   \n",
       "3        Decision Trees       0.97    0.97       0.97      0.95   \n",
       "4           Naive Bayes       0.98    0.24       0.39      0.26   \n",
       "\n",
       "   Rejection Rate   Auc  \n",
       "0            0.91  0.70  \n",
       "1            0.61  0.68  \n",
       "2            0.34  0.64  \n",
       "3            0.22  0.59  \n",
       "4            0.86  0.55  "
      ]
     },
     "execution_count": 49,
     "metadata": {},
     "output_type": "execute_result"
    }
   ],
   "source": [
    "df_test"
   ]
  },
  {
   "cell_type": "code",
   "execution_count": null,
   "metadata": {
    "collapsed": true
   },
   "outputs": [],
   "source": []
  }
 ],
 "metadata": {
  "kernelspec": {
   "display_name": "Python 3",
   "language": "python",
   "name": "python3"
  },
  "language_info": {
   "codemirror_mode": {
    "name": "ipython",
    "version": 3
   },
   "file_extension": ".py",
   "mimetype": "text/x-python",
   "name": "python",
   "nbconvert_exporter": "python",
   "pygments_lexer": "ipython3",
   "version": "3.6.1"
  }
 },
 "nbformat": 4,
 "nbformat_minor": 1
}
