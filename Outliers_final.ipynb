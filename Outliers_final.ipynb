{
 "cells": [
  {
   "cell_type": "code",
   "execution_count": 34,
   "metadata": {},
   "outputs": [],
   "source": [
    "import pandas as pd\n",
    "import numpy as np\n",
    "import math\n",
    "import matplotlib.pyplot as plt\n",
    "from mpl_toolkits.mplot3d import Axes3D\n",
    "from sklearn.preprocessing import StandardScaler\n",
    "\n",
    "#label encoder\n",
    "from sklearn.preprocessing import LabelEncoder\n",
    "from keras.utils import np_utils"
   ]
  },
  {
   "cell_type": "code",
   "execution_count": 53,
   "metadata": {},
   "outputs": [
    {
     "data": {
      "text/plain": [
       "(374362, 154)"
      ]
     },
     "execution_count": 53,
     "metadata": {},
     "output_type": "execute_result"
    }
   ],
   "source": [
    "df = pd.read_csv(\"DA/visa.csv\")\n",
    "df.shape"
   ]
  },
  {
   "cell_type": "code",
   "execution_count": 54,
   "metadata": {},
   "outputs": [
    {
     "data": {
      "text/plain": [
       "add_these_pw_job_title_9089               332168\n",
       "agent_city                                162908\n",
       "agent_firm_name                           167365\n",
       "agent_state                               166123\n",
       "application_type                          239093\n",
       "case_no                                   239093\n",
       "case_number                               135269\n",
       "case_received_date                        135271\n",
       "case_status                                    0\n",
       "class_of_admission                         22845\n",
       "country_of_citizenship                     20633\n",
       "country_of_citzenship                     353788\n",
       "decision_date                                  0\n",
       "employer_address_1                            42\n",
       "employer_address_2                        149193\n",
       "employer_city                                 14\n",
       "employer_country                          135343\n",
       "employer_decl_info_title                  135308\n",
       "employer_name                                 12\n",
       "employer_num_employees                    135349\n",
       "employer_phone                            135305\n",
       "employer_phone_ext                        350901\n",
       "employer_postal_code                          37\n",
       "employer_state                                42\n",
       "employer_yr_estab                         135404\n",
       "foreign_worker_info_alt_edu_experience    285737\n",
       "foreign_worker_info_birth_country         285734\n",
       "foreign_worker_info_city                  135297\n",
       "foreign_worker_info_education             135309\n",
       "foreign_worker_info_education_other       370422\n",
       "                                           ...  \n",
       "refile                                    256283\n",
       "ri_1st_ad_newspaper_name                  137634\n",
       "ri_2nd_ad_newspaper_name                  137666\n",
       "ri_2nd_ad_newspaper_or_journal            141448\n",
       "ri_campus_placement_from                  344359\n",
       "ri_campus_placement_to                    344369\n",
       "ri_coll_tch_basic_process                 367349\n",
       "ri_coll_teach_pro_jnl                     221788\n",
       "ri_coll_teach_select_date                 368632\n",
       "ri_employee_referral_prog_from            305641\n",
       "ri_employee_referral_prog_to              305640\n",
       "ri_employer_web_post_from                 237726\n",
       "ri_employer_web_post_to                   237748\n",
       "ri_job_search_website_from                177571\n",
       "ri_job_search_website_to                  177581\n",
       "ri_layoff_in_past_six_months              135303\n",
       "ri_local_ethnic_paper_from                253481\n",
       "ri_local_ethnic_paper_to                  253481\n",
       "ri_posted_notice_at_worksite              135360\n",
       "ri_pvt_employment_firm_from               357920\n",
       "ri_pvt_employment_firm_to                 357922\n",
       "ri_us_workers_considered                  357129\n",
       "schd_a_sheepherder                        135288\n",
       "us_economic_sector                        245294\n",
       "wage_offer_from_9089                      114771\n",
       "wage_offer_to_9089                        300728\n",
       "wage_offer_unit_of_pay_9089               115916\n",
       "wage_offered_from_9089                    259715\n",
       "wage_offered_to_9089                      343347\n",
       "wage_offered_unit_of_pay_9089             303663\n",
       "Length: 154, dtype: int64"
      ]
     },
     "execution_count": 54,
     "metadata": {},
     "output_type": "execute_result"
    }
   ],
   "source": [
    "df.isnull().sum()"
   ]
  },
  {
   "cell_type": "code",
   "execution_count": 55,
   "metadata": {},
   "outputs": [
    {
     "data": {
      "text/plain": [
       "case_status\n",
       "Certified            1\n",
       "Certified-Expired    1\n",
       "Denied               1\n",
       "Name: case_status, dtype: int64"
      ]
     },
     "execution_count": 55,
     "metadata": {},
     "output_type": "execute_result"
    }
   ],
   "source": [
    "df = df.loc[(df['case_status'] != \"Withdrawn\")]\n",
    "to_predict = df['case_status']\n",
    "temp = df.groupby('case_status')['case_status'].nunique()\n",
    "temp"
   ]
  },
  {
   "cell_type": "code",
   "execution_count": 56,
   "metadata": {},
   "outputs": [
    {
     "data": {
      "text/plain": [
       "0    1\n",
       "1    3\n",
       "2    1\n",
       "3    1\n",
       "4    1\n",
       "Name: case_status, dtype: int64"
      ]
     },
     "execution_count": 56,
     "metadata": {},
     "output_type": "execute_result"
    }
   ],
   "source": [
    "df.loc[df['case_status'] == \"Certified\", \"case_status\"] = 1\n",
    "df.loc[df['case_status'] == \"Certified-Expired\", \"case_status\"] = 2\n",
    "df.loc[df['case_status'] == \"Denied\", \"case_status\"] = 3\n",
    "df['case_status'].head()"
   ]
  },
  {
   "cell_type": "markdown",
   "metadata": {},
   "source": [
    "### Columns left\n",
    "- 99% : 147\n",
    "- 90% : 122\n",
    "- 50% : 70\n",
    "- 25% : 17"
   ]
  },
  {
   "cell_type": "code",
   "execution_count": 57,
   "metadata": {},
   "outputs": [],
   "source": [
    "n=374362-(374362*0.1)"
   ]
  },
  {
   "cell_type": "code",
   "execution_count": 58,
   "metadata": {},
   "outputs": [
    {
     "name": "stdout",
     "output_type": "stream",
     "text": [
      "('dropped', 'country_of_citzenship')\n",
      "('dropped', 'foreign_worker_info_education_other')\n",
      "('dropped', 'ji_live_in_dom_svc_contract')\n",
      "('dropped', 'job_info_alt_combo_ed_other')\n",
      "('dropped', 'job_info_education_other')\n",
      "('dropped', 'job_info_training_field')\n",
      "('dropped', 'job_info_training_num_months')\n",
      "('dropped', 'naics_2007_us_code')\n",
      "('dropped', 'naics_2007_us_title')\n",
      "('dropped', 'orig_case_no')\n",
      "('dropped', 'orig_file_date')\n",
      "('dropped', 'pw_source_name_other_9089')\n",
      "('dropped', 'recr_info_coll_teach_comp_proc')\n",
      "('dropped', 'recr_info_job_fair_from')\n",
      "('dropped', 'recr_info_job_fair_to')\n",
      "('dropped', 'recr_info_on_campus_recr_from')\n",
      "('dropped', 'recr_info_on_campus_recr_to')\n",
      "('dropped', 'recr_info_pro_org_advert_from')\n",
      "('dropped', 'recr_info_pro_org_advert_to')\n",
      "('dropped', 'ri_coll_tch_basic_process')\n",
      "('dropped', 'ri_coll_teach_select_date')\n",
      "('dropped', 'ri_pvt_employment_firm_from')\n",
      "('dropped', 'ri_pvt_employment_firm_to')\n",
      "('dropped', 'ri_us_workers_considered')\n"
     ]
    }
   ],
   "source": [
    "for i in df.columns:\n",
    "    #print(df[i].isnull().sum())\n",
    "    if((df[i].isnull().sum())>n):\n",
    "        df = df.drop(i,axis=1)\n",
    "        print(\"dropped\",i)"
   ]
  },
  {
   "cell_type": "code",
   "execution_count": 59,
   "metadata": {},
   "outputs": [
    {
     "data": {
      "text/plain": [
       "(356168, 130)"
      ]
     },
     "execution_count": 59,
     "metadata": {},
     "output_type": "execute_result"
    }
   ],
   "source": [
    "df.shape"
   ]
  },
  {
   "cell_type": "code",
   "execution_count": 80,
   "metadata": {},
   "outputs": [
    {
     "data": {
      "text/html": [
       "<div>\n",
       "<style scoped>\n",
       "    .dataframe tbody tr th:only-of-type {\n",
       "        vertical-align: middle;\n",
       "    }\n",
       "\n",
       "    .dataframe tbody tr th {\n",
       "        vertical-align: top;\n",
       "    }\n",
       "\n",
       "    .dataframe thead th {\n",
       "        text-align: right;\n",
       "    }\n",
       "</style>\n",
       "<table border=\"1\" class=\"dataframe\">\n",
       "  <thead>\n",
       "    <tr style=\"text-align: right;\">\n",
       "      <th></th>\n",
       "      <th>add_these_pw_job_title_9089</th>\n",
       "      <th>agent_city</th>\n",
       "      <th>agent_firm_name</th>\n",
       "      <th>agent_state</th>\n",
       "      <th>application_type</th>\n",
       "      <th>case_no</th>\n",
       "      <th>case_number</th>\n",
       "      <th>case_received_date</th>\n",
       "      <th>case_status</th>\n",
       "      <th>class_of_admission</th>\n",
       "      <th>...</th>\n",
       "      <th>ri_local_ethnic_paper_to</th>\n",
       "      <th>ri_posted_notice_at_worksite</th>\n",
       "      <th>schd_a_sheepherder</th>\n",
       "      <th>us_economic_sector</th>\n",
       "      <th>wage_offer_from_9089</th>\n",
       "      <th>wage_offer_to_9089</th>\n",
       "      <th>wage_offer_unit_of_pay_9089</th>\n",
       "      <th>wage_offered_from_9089</th>\n",
       "      <th>wage_offered_to_9089</th>\n",
       "      <th>wage_offered_unit_of_pay_9089</th>\n",
       "    </tr>\n",
       "  </thead>\n",
       "  <tbody>\n",
       "  </tbody>\n",
       "</table>\n",
       "<p>0 rows × 130 columns</p>\n",
       "</div>"
      ],
      "text/plain": [
       "Empty DataFrame\n",
       "Columns: [add_these_pw_job_title_9089, agent_city, agent_firm_name, agent_state, application_type, case_no, case_number, case_received_date, case_status, class_of_admission, country_of_citizenship, decision_date, employer_address_1, employer_address_2, employer_city, employer_country, employer_decl_info_title, employer_name, employer_num_employees, employer_phone, employer_phone_ext, employer_postal_code, employer_state, employer_yr_estab, foreign_worker_info_alt_edu_experience, foreign_worker_info_birth_country, foreign_worker_info_city, foreign_worker_info_education, foreign_worker_info_inst, foreign_worker_info_major, foreign_worker_info_postal_code, foreign_worker_info_rel_occup_exp, foreign_worker_info_req_experience, foreign_worker_info_state, foreign_worker_info_training_comp, foreign_worker_ownership_interest, foreign_worker_yr_rel_edu_completed, fw_info_alt_edu_experience, fw_info_birth_country, fw_info_education_other, fw_info_postal_code, fw_info_rel_occup_exp, fw_info_req_experience, fw_info_training_comp, fw_info_yr_rel_edu_completed, fw_ownership_interest, ji_foreign_worker_live_on_premises, ji_fw_live_on_premises, ji_live_in_domestic_service, ji_offered_to_sec_j_foreign_worker, ji_offered_to_sec_j_fw, job_info_alt_cmb_ed_oth_yrs, job_info_alt_combo_ed, job_info_alt_combo_ed_exp, job_info_alt_field, job_info_alt_field_name, job_info_alt_occ, job_info_alt_occ_job_title, job_info_alt_occ_num_months, job_info_combo_occupation, job_info_education, job_info_experience, job_info_experience_num_months, job_info_foreign_ed, job_info_foreign_lang_req, job_info_job_req_normal, job_info_job_title, job_info_major, job_info_training, job_info_work_city, job_info_work_postal_code, job_info_work_state, naics_code, naics_title, naics_us_code, naics_us_code_2007, naics_us_title, naics_us_title_2007, preparer_info_emp_completed, preparer_info_title, pw_amount_9089, pw_determ_date, pw_expire_date, pw_job_title_908, pw_job_title_9089, pw_level_9089, pw_soc_code, pw_soc_title, pw_source_name_9089, pw_track_num, pw_unit_of_pay_9089, rec_info_barg_rep_notified, recr_info_barg_rep_notified, recr_info_coll_univ_teacher, recr_info_employer_rec_payment, recr_info_first_ad_start, recr_info_prof_org_advert_from, recr_info_prof_org_advert_to, recr_info_professional_occ, recr_info_radio_tv_ad_from, ...]\n",
       "Index: []\n",
       "\n",
       "[0 rows x 130 columns]"
      ]
     },
     "execution_count": 80,
     "metadata": {},
     "output_type": "execute_result"
    }
   ],
   "source": [
    "# df.drop('agent_city',axis=1)\n",
    "# df.drop('case_no',axis=1)\n",
    "# df.drop('case_number',axis=1)\n",
    "# df.drop('case_received_date',axis=1)"
   ]
  },
  {
   "cell_type": "code",
   "execution_count": null,
   "metadata": {},
   "outputs": [],
   "source": [
    "# corr_matrix = df.corr().abs()\n",
    "# corr_matrix['case_status']"
   ]
  }
 ],
 "metadata": {
  "kernelspec": {
   "display_name": "Python 2",
   "language": "python",
   "name": "python2"
  },
  "language_info": {
   "codemirror_mode": {
    "name": "ipython",
    "version": 2
   },
   "file_extension": ".py",
   "mimetype": "text/x-python",
   "name": "python",
   "nbconvert_exporter": "python",
   "pygments_lexer": "ipython2",
   "version": "2.7.15"
  }
 },
 "nbformat": 4,
 "nbformat_minor": 2
}
